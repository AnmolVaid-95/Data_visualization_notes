{
 "cells": [
  {
   "cell_type": "markdown",
   "id": "ec42c9de",
   "metadata": {},
   "source": [
    "#### NumPy (Numeric + Python = NumPy) is the fundamental package for scientific computing in Python. It is a Python library that provides a multidimensional array object, various derived objects (such as masked arrays and matrices), and an assortment of routines for fast operations on arrays, including mathematical, logical, shape manipulation, sorting, selecting, I/O, discrete Fourier transforms, basic linear algebra, basic statistical operations, random simulation and much more."
   ]
  },
  {
   "cell_type": "markdown",
   "id": "c9c91d09",
   "metadata": {},
   "source": [
    "#### At the core of the NumPy package, is the ndarray object. This encapsulates n-dimensional arrays of homogeneous data types, with many operations being performed in compiled code for performance. Originally MATLAB was used for scientific calculation and operation purpose. There are several important differences between NumPy arrays and the standard Python sequences:"
   ]
  },
  {
   "cell_type": "markdown",
   "id": "30c0f8e3",
   "metadata": {},
   "source": [
    "#### 1. NumPy arrays have a fixed size at creation, unlike Python lists (which can grow dynamically). Changing the size of an ndarray will create a new array and delete the original."
   ]
  },
  {
   "cell_type": "markdown",
   "id": "28226c09",
   "metadata": {},
   "source": [
    "#### 2. The elements in a NumPy array are all required to be of the same data type, and thus will be the same size in memory. The exception: one can have arrays of (Python, including NumPy) objects, thereby allowing for arrays of different sized elements."
   ]
  },
  {
   "cell_type": "markdown",
   "id": "70244025",
   "metadata": {},
   "source": [
    "#### 3. NumPy arrays facilitate advanced mathematical and other types of operations on large numbers of data. Typically, such operations are executed more efficiently and with less code than is possible using Python’s built-in sequences."
   ]
  },
  {
   "cell_type": "markdown",
   "id": "953aabf3",
   "metadata": {},
   "source": [
    "#### 4. A growing plethora of scientific and mathematical Python-based packages are using NumPy arrays; though these typically support Python-sequence input, they convert such input to NumPy arrays prior to processing, and they often output NumPy arrays. In other words, in order to efficiently use much (perhaps even most) of today’s scientific/mathematical Python-based software, just knowing how to use Python’s built-in sequence types is insufficient - one also needs to know how to use NumPy arrays."
   ]
  },
  {
   "cell_type": "markdown",
   "id": "6e015542",
   "metadata": {},
   "source": [
    "#### Numpy will be used in ML, DL, Computer Vision, etc. It has humugous application and is very important. "
   ]
  },
  {
   "cell_type": "code",
   "execution_count": 1,
   "id": "02214055",
   "metadata": {},
   "outputs": [],
   "source": [
    "import numpy as np"
   ]
  },
  {
   "cell_type": "markdown",
   "id": "b2b7e106",
   "metadata": {},
   "source": [
    "#### We have various entities around us which can be represented as array or matrixes. For example images, audio, textual information, videos, etc. "
   ]
  },
  {
   "cell_type": "code",
   "execution_count": null,
   "id": "ba1133d9",
   "metadata": {},
   "outputs": [],
   "source": []
  },
  {
   "cell_type": "markdown",
   "id": "423ad824",
   "metadata": {},
   "source": [
    "#### Creating an array using numpy"
   ]
  },
  {
   "cell_type": "code",
   "execution_count": 2,
   "id": "daac5140",
   "metadata": {},
   "outputs": [
    {
     "data": {
      "text/plain": [
       "array([1, 2, 3, 4, 5])"
      ]
     },
     "execution_count": 2,
     "metadata": {},
     "output_type": "execute_result"
    }
   ],
   "source": [
    "np.array([1,2,3,4,5])"
   ]
  },
  {
   "cell_type": "code",
   "execution_count": 3,
   "id": "7ac28e60",
   "metadata": {},
   "outputs": [
    {
     "data": {
      "text/plain": [
       "numpy.ndarray"
      ]
     },
     "execution_count": 3,
     "metadata": {},
     "output_type": "execute_result"
    }
   ],
   "source": [
    "type(np.array([1,2,3,4,5]))\n",
    "# nd means N-dimensional.\n",
    "# It is N-dimensional because it may be possible you may create 1-D. 2-D, 100-D data"
   ]
  },
  {
   "cell_type": "code",
   "execution_count": 4,
   "id": "682c2168",
   "metadata": {},
   "outputs": [
    {
     "data": {
      "text/plain": [
       "array(['1', '2', '3', '4', '5', 'Anmol', 'True', '(9+7j)'], dtype='<U64')"
      ]
     },
     "execution_count": 4,
     "metadata": {},
     "output_type": "execute_result"
    }
   ],
   "source": [
    "np.array([1,2,3,4,5,\"Anmol\",True,9+7j])\n",
    "# As I have included a string data in this array\n",
    "# Whole data is converted into string as each and every element is enclosed in Single cotes."
   ]
  },
  {
   "cell_type": "code",
   "execution_count": 5,
   "id": "f7a70525",
   "metadata": {},
   "outputs": [
    {
     "data": {
      "text/plain": [
       "array([1.+0.j, 2.+0.j, 3.+0.j, 4.+0.j, 5.+0.j, 1.+0.j, 9.+7.j])"
      ]
     },
     "execution_count": 5,
     "metadata": {},
     "output_type": "execute_result"
    }
   ],
   "source": [
    "np.array([1,2,3,4,5,True,9+7j])\n",
    "# Now all data is converted into complex number."
   ]
  },
  {
   "cell_type": "code",
   "execution_count": 6,
   "id": "7fda565f",
   "metadata": {},
   "outputs": [
    {
     "data": {
      "text/plain": [
       "array([1, 2, 3, 4, 5, 1, 0])"
      ]
     },
     "execution_count": 6,
     "metadata": {},
     "output_type": "execute_result"
    }
   ],
   "source": [
    "np.array([1,2,3,4,5,True,False])\n",
    "# Data will remain numberic and \n",
    "# boolean will be converted to it's subsiquent integer value"
   ]
  },
  {
   "cell_type": "code",
   "execution_count": 7,
   "id": "537e408b",
   "metadata": {},
   "outputs": [
    {
     "data": {
      "text/plain": [
       "array([1., 2., 3., 4., 5., 1., 0., 7.])"
      ]
     },
     "execution_count": 7,
     "metadata": {},
     "output_type": "execute_result"
    }
   ],
   "source": [
    "np.array([1,2,3,4,5,True,False,7.0])\n",
    "# Now data is converted into Float"
   ]
  },
  {
   "cell_type": "markdown",
   "id": "412ec88b",
   "metadata": {},
   "source": [
    "#### Above examples shows that whatever higher form of data is present in array. Data will be converted into that Data type only."
   ]
  },
  {
   "cell_type": "code",
   "execution_count": null,
   "id": "62f6941d",
   "metadata": {},
   "outputs": [],
   "source": []
  },
  {
   "cell_type": "markdown",
   "id": "54ff0af1",
   "metadata": {},
   "source": [
    "#### Creating a 2-D array as shown below."
   ]
  },
  {
   "cell_type": "code",
   "execution_count": 8,
   "id": "550461bc",
   "metadata": {},
   "outputs": [
    {
     "data": {
      "text/plain": [
       "array([[ 1,  3],\n",
       "       [11, 22]])"
      ]
     },
     "execution_count": 8,
     "metadata": {},
     "output_type": "execute_result"
    }
   ],
   "source": [
    "np.array([[1,3],[11,22]])"
   ]
  },
  {
   "cell_type": "code",
   "execution_count": 9,
   "id": "28350b1e",
   "metadata": {},
   "outputs": [
    {
     "data": {
      "text/plain": [
       "array([[ 1,  3],\n",
       "       [11, 22]])"
      ]
     },
     "execution_count": 9,
     "metadata": {},
     "output_type": "execute_result"
    }
   ],
   "source": [
    "np.array([(1,3),(11,22)])\n",
    "# Round brackets don't make difference as shown above"
   ]
  },
  {
   "cell_type": "code",
   "execution_count": 10,
   "id": "d48259b5",
   "metadata": {},
   "outputs": [
    {
     "data": {
      "text/plain": [
       "(2, 2)"
      ]
     },
     "execution_count": 10,
     "metadata": {},
     "output_type": "execute_result"
    }
   ],
   "source": [
    "np.array([[1,3],[11,22]]).shape"
   ]
  },
  {
   "cell_type": "code",
   "execution_count": 11,
   "id": "552b6dc4",
   "metadata": {},
   "outputs": [
    {
     "data": {
      "text/plain": [
       "array([[  1,   3],\n",
       "       [ 11,  22],\n",
       "       [111, 222]])"
      ]
     },
     "execution_count": 11,
     "metadata": {},
     "output_type": "execute_result"
    }
   ],
   "source": [
    "np.array([[1,3],[11,22],[111,222]])"
   ]
  },
  {
   "cell_type": "code",
   "execution_count": 12,
   "id": "50fe4cc7",
   "metadata": {},
   "outputs": [
    {
     "data": {
      "text/plain": [
       "(3, 2)"
      ]
     },
     "execution_count": 12,
     "metadata": {},
     "output_type": "execute_result"
    }
   ],
   "source": [
    "np.array([[1,3],[11,22],[111,222]]).shape"
   ]
  },
  {
   "cell_type": "markdown",
   "id": "4992ec5b",
   "metadata": {},
   "source": [
    "#### In order to identify Dimension of array without using any Function, count the NUMBER OF SQUARE BRACKETS PRESENT JUST AFTER STARTING ROUND BRACKET."
   ]
  },
  {
   "cell_type": "code",
   "execution_count": 13,
   "id": "f61e94aa",
   "metadata": {},
   "outputs": [
    {
     "name": "stderr",
     "output_type": "stream",
     "text": [
      "<ipython-input-13-489c24ce794d>:1: VisibleDeprecationWarning: Creating an ndarray from ragged nested sequences (which is a list-or-tuple of lists-or-tuples-or ndarrays with different lengths or shapes) is deprecated. If you meant to do this, you must specify 'dtype=object' when creating the ndarray.\n",
      "  np.array([[1,3],[11,22],[111,222,777]])\n"
     ]
    },
    {
     "data": {
      "text/plain": [
       "array([list([1, 3]), list([11, 22]), list([111, 222, 777])], dtype=object)"
      ]
     },
     "execution_count": 13,
     "metadata": {},
     "output_type": "execute_result"
    }
   ],
   "source": [
    "np.array([[1,3],[11,22],[111,222,777]])\n",
    "# Below warning indicates that you have created an array in which elements\n",
    "# Are of unequal size.\n",
    "# So it will create list of those arrays \n",
    "# Then will try to return this."
   ]
  },
  {
   "cell_type": "code",
   "execution_count": null,
   "id": "6bed5534",
   "metadata": {},
   "outputs": [],
   "source": []
  },
  {
   "cell_type": "code",
   "execution_count": 14,
   "id": "f9f8f518",
   "metadata": {},
   "outputs": [
    {
     "data": {
      "text/plain": [
       "array([[[ 1,  3],\n",
       "        [11, 22]],\n",
       "\n",
       "       [[33, 44],\n",
       "        [55, 66]]])"
      ]
     },
     "execution_count": 14,
     "metadata": {},
     "output_type": "execute_result"
    }
   ],
   "source": [
    "np.array([[[1,3],[11,22]],[[33,44],[55,66]]])\n",
    "# Above we have created 3-D array.\n",
    "# We need to count the number of SQUARE BRACKETS present just after starting\n",
    "# of round brackets."
   ]
  },
  {
   "cell_type": "code",
   "execution_count": 15,
   "id": "65b9d72d",
   "metadata": {},
   "outputs": [
    {
     "data": {
      "text/plain": [
       "(2, 2, 2)"
      ]
     },
     "execution_count": 15,
     "metadata": {},
     "output_type": "execute_result"
    }
   ],
   "source": [
    "np.array([[[1,3],[11,22]],[[33,44],[55,66]]]).shape"
   ]
  },
  {
   "cell_type": "code",
   "execution_count": null,
   "id": "b1b981f7",
   "metadata": {},
   "outputs": [],
   "source": []
  },
  {
   "cell_type": "markdown",
   "id": "0cede26c",
   "metadata": {},
   "source": [
    "#### Creating N-D array using ndim parameter"
   ]
  },
  {
   "cell_type": "code",
   "execution_count": 16,
   "id": "f8b80b1b",
   "metadata": {},
   "outputs": [
    {
     "data": {
      "text/plain": [
       "array([[[1, 2, 3]]])"
      ]
     },
     "execution_count": 16,
     "metadata": {},
     "output_type": "execute_result"
    }
   ],
   "source": [
    "np.array([1,2,3],ndmin=3)"
   ]
  },
  {
   "cell_type": "code",
   "execution_count": 17,
   "id": "1276b714",
   "metadata": {},
   "outputs": [
    {
     "data": {
      "text/plain": [
       "array([[[[[[[[[[[[[[[[[[[[[[[[[[[[[[1, 2, 3]]]]]]]]]]]]]]]]]]]]]]]]]]]]]])"
      ]
     },
     "execution_count": 17,
     "metadata": {},
     "output_type": "execute_result"
    }
   ],
   "source": [
    "np.array([1,2,3],ndmin=30)"
   ]
  },
  {
   "cell_type": "code",
   "execution_count": null,
   "id": "88eacdf7",
   "metadata": {},
   "outputs": [],
   "source": []
  },
  {
   "cell_type": "markdown",
   "id": "4d714fe3",
   "metadata": {},
   "source": [
    "#### Converting data into other using dtype parameter"
   ]
  },
  {
   "cell_type": "code",
   "execution_count": 18,
   "id": "22d29117",
   "metadata": {},
   "outputs": [
    {
     "data": {
      "text/plain": [
       "array([11.+0.j, 22.+0.j, 33.+0.j])"
      ]
     },
     "execution_count": 18,
     "metadata": {},
     "output_type": "execute_result"
    }
   ],
   "source": [
    "np.array([11,22,33], dtype= complex)\n",
    "# cretaing complex from integer\n",
    "# It's imaginery part will be Zero"
   ]
  },
  {
   "cell_type": "code",
   "execution_count": 19,
   "id": "7ed8277a",
   "metadata": {},
   "outputs": [
    {
     "data": {
      "text/plain": [
       "array(['11', '22', '33'], dtype='<U2')"
      ]
     },
     "execution_count": 19,
     "metadata": {},
     "output_type": "execute_result"
    }
   ],
   "source": [
    "np.array([11,22,33], dtype= str)"
   ]
  },
  {
   "cell_type": "code",
   "execution_count": null,
   "id": "eb52446b",
   "metadata": {},
   "outputs": [],
   "source": []
  },
  {
   "cell_type": "markdown",
   "id": "817857ce",
   "metadata": {},
   "source": [
    "#### Defining individual datatypes as shown below."
   ]
  },
  {
   "cell_type": "code",
   "execution_count": 20,
   "id": "d1c5e6ec",
   "metadata": {},
   "outputs": [],
   "source": [
    "a = np.array([(11,22),(44,55)], dtype= [('a','<i2'),('b','<i8')])"
   ]
  },
  {
   "cell_type": "code",
   "execution_count": 21,
   "id": "db5fd243",
   "metadata": {},
   "outputs": [
    {
     "data": {
      "text/plain": [
       "11"
      ]
     },
     "execution_count": 21,
     "metadata": {},
     "output_type": "execute_result"
    }
   ],
   "source": [
    "a[0][0]"
   ]
  },
  {
   "cell_type": "code",
   "execution_count": 22,
   "id": "5671f130",
   "metadata": {},
   "outputs": [
    {
     "data": {
      "text/plain": [
       "numpy.int16"
      ]
     },
     "execution_count": 22,
     "metadata": {},
     "output_type": "execute_result"
    }
   ],
   "source": [
    "type(a[0][0])"
   ]
  },
  {
   "cell_type": "code",
   "execution_count": 23,
   "id": "69095068",
   "metadata": {},
   "outputs": [
    {
     "data": {
      "text/plain": [
       "22"
      ]
     },
     "execution_count": 23,
     "metadata": {},
     "output_type": "execute_result"
    }
   ],
   "source": [
    "a[0][1]"
   ]
  },
  {
   "cell_type": "code",
   "execution_count": 24,
   "id": "405303df",
   "metadata": {},
   "outputs": [
    {
     "data": {
      "text/plain": [
       "numpy.int64"
      ]
     },
     "execution_count": 24,
     "metadata": {},
     "output_type": "execute_result"
    }
   ],
   "source": [
    "type(a[0][1])"
   ]
  },
  {
   "cell_type": "markdown",
   "id": "cc4164be",
   "metadata": {},
   "source": [
    "#### We mentioned in dtype = ('a','i<2') so first element will be int16 and ('b','int<8') and second will be int64\n",
    "\n",
    "\n",
    "#### This becomes important when you have memory constraint and you need to manage memory efficiently."
   ]
  },
  {
   "cell_type": "code",
   "execution_count": null,
   "id": "fc5e6441",
   "metadata": {},
   "outputs": [],
   "source": []
  },
  {
   "cell_type": "code",
   "execution_count": 25,
   "id": "edad7bcd",
   "metadata": {},
   "outputs": [],
   "source": [
    "arr = np.array([[11,33],[44,55]])"
   ]
  },
  {
   "cell_type": "code",
   "execution_count": 26,
   "id": "bb687f19",
   "metadata": {},
   "outputs": [
    {
     "data": {
      "text/plain": [
       "array([[11, 33],\n",
       "       [44, 55]])"
      ]
     },
     "execution_count": 26,
     "metadata": {},
     "output_type": "execute_result"
    }
   ],
   "source": [
    "arr"
   ]
  },
  {
   "cell_type": "code",
   "execution_count": 27,
   "id": "43774cd9",
   "metadata": {},
   "outputs": [
    {
     "data": {
      "text/plain": [
       "11"
      ]
     },
     "execution_count": 27,
     "metadata": {},
     "output_type": "execute_result"
    }
   ],
   "source": [
    "a[0][0]"
   ]
  },
  {
   "cell_type": "code",
   "execution_count": 28,
   "id": "b4eabb64",
   "metadata": {},
   "outputs": [
    {
     "data": {
      "text/plain": [
       "22"
      ]
     },
     "execution_count": 28,
     "metadata": {},
     "output_type": "execute_result"
    }
   ],
   "source": [
    "a[0][1]"
   ]
  },
  {
   "cell_type": "code",
   "execution_count": 29,
   "id": "7ec2b3b2",
   "metadata": {},
   "outputs": [
    {
     "data": {
      "text/plain": [
       "44"
      ]
     },
     "execution_count": 29,
     "metadata": {},
     "output_type": "execute_result"
    }
   ],
   "source": [
    "a[1][0]"
   ]
  },
  {
   "cell_type": "code",
   "execution_count": 30,
   "id": "fa8820ef",
   "metadata": {},
   "outputs": [
    {
     "data": {
      "text/plain": [
       "55"
      ]
     },
     "execution_count": 30,
     "metadata": {},
     "output_type": "execute_result"
    }
   ],
   "source": [
    "a[1][1]"
   ]
  },
  {
   "cell_type": "markdown",
   "id": "c1ddee07",
   "metadata": {},
   "source": [
    "#### Numpy matrices are strictly 2-dimensional, while numpy arrays (ndarrays) are N-dimensional. Matrix objects are a subclass of ndarray, so they inherit all the attributes and methods of ndarrays.\n",
    "\n",
    "#### The main advantage of numpy matrices is that they provide a convenient notation for matrix multiplication: if a and b are matrices, then a*b is their matrix product."
   ]
  },
  {
   "cell_type": "code",
   "execution_count": 31,
   "id": "9be4ec53",
   "metadata": {},
   "outputs": [
    {
     "data": {
      "text/plain": [
       "matrix([[11, 33],\n",
       "        [44, 55]])"
      ]
     },
     "execution_count": 31,
     "metadata": {},
     "output_type": "execute_result"
    }
   ],
   "source": [
    "np.matrix(arr)\n",
    "# We have created a matrix"
   ]
  },
  {
   "cell_type": "markdown",
   "id": "095ea6d0",
   "metadata": {},
   "source": [
    "#### 6 Differences between np.array and np.matrixes \n",
    "\n",
    "##### 1.  matrix objects are strictly 2-dimensional while ndarray objects can be multi-dimensional\n",
    "\n",
    "##### 2. ndarray and matrix objects behave differently with the * (single star) operator\n",
    "\n",
    "##### 3. ndarray and matrix objects behave differently with the ** (double stars) operator\n",
    "\n",
    "##### 4. matrix class is a subclass of ndarray class\n",
    "\n",
    "##### 5. matrix objects have .I for inverse, but ndarray objects don’t\n",
    "\n",
    "##### 6. ndarray class is commonly used rather than matrix class"
   ]
  },
  {
   "cell_type": "code",
   "execution_count": null,
   "id": "eb6980d1",
   "metadata": {},
   "outputs": [],
   "source": []
  },
  {
   "cell_type": "code",
   "execution_count": 32,
   "id": "b4c7a582",
   "metadata": {},
   "outputs": [
    {
     "data": {
      "text/plain": [
       "matrix([[11, 33],\n",
       "        [44, 55]])"
      ]
     },
     "execution_count": 32,
     "metadata": {},
     "output_type": "execute_result"
    }
   ],
   "source": [
    "np.mat(arr)\n",
    "# Another method to create matrix using mat"
   ]
  },
  {
   "cell_type": "code",
   "execution_count": null,
   "id": "ca76078f",
   "metadata": {},
   "outputs": [],
   "source": []
  },
  {
   "cell_type": "code",
   "execution_count": 33,
   "id": "13c9bed8",
   "metadata": {},
   "outputs": [],
   "source": [
    "l = [3,4,5,76,7]"
   ]
  },
  {
   "cell_type": "code",
   "execution_count": 34,
   "id": "c65ee7e4",
   "metadata": {},
   "outputs": [
    {
     "data": {
      "text/plain": [
       "array([ 3,  4,  5, 76,  7])"
      ]
     },
     "execution_count": 34,
     "metadata": {},
     "output_type": "execute_result"
    }
   ],
   "source": [
    "np.array(l)"
   ]
  },
  {
   "cell_type": "code",
   "execution_count": 35,
   "id": "801b1300",
   "metadata": {},
   "outputs": [
    {
     "data": {
      "text/plain": [
       "array([ 3,  4,  5, 76,  7])"
      ]
     },
     "execution_count": 35,
     "metadata": {},
     "output_type": "execute_result"
    }
   ],
   "source": [
    "np.asarray(l)"
   ]
  },
  {
   "cell_type": "code",
   "execution_count": 36,
   "id": "436d09b4",
   "metadata": {},
   "outputs": [
    {
     "data": {
      "text/plain": [
       "array([ 3,  4,  5, 76,  7])"
      ]
     },
     "execution_count": 36,
     "metadata": {},
     "output_type": "execute_result"
    }
   ],
   "source": [
    "np.asanyarray(l)"
   ]
  },
  {
   "cell_type": "markdown",
   "id": "9f5392df",
   "metadata": {},
   "source": [
    "####  Multiple ways to create array as shown above. "
   ]
  },
  {
   "cell_type": "code",
   "execution_count": 37,
   "id": "54d802da",
   "metadata": {},
   "outputs": [
    {
     "data": {
      "text/plain": [
       "matrix([[1, 2]])"
      ]
     },
     "execution_count": 37,
     "metadata": {},
     "output_type": "execute_result"
    }
   ],
   "source": [
    "np.asanyarray(np.matrix([1,2]))\n",
    "# But in this case as Matrix is subset of array it will be \n",
    "# Remain Matrix only."
   ]
  },
  {
   "cell_type": "code",
   "execution_count": 38,
   "id": "884a4429",
   "metadata": {},
   "outputs": [
    {
     "data": {
      "text/plain": [
       "True"
      ]
     },
     "execution_count": 38,
     "metadata": {},
     "output_type": "execute_result"
    }
   ],
   "source": [
    "issubclass(np.matrix, np.ndarray)\n",
    "# Proof that matrix is a subclass of NDArray\n",
    "# ndarray is PARENT class"
   ]
  },
  {
   "cell_type": "code",
   "execution_count": 39,
   "id": "af7f9f47",
   "metadata": {},
   "outputs": [
    {
     "data": {
      "text/plain": [
       "False"
      ]
     },
     "execution_count": 39,
     "metadata": {},
     "output_type": "execute_result"
    }
   ],
   "source": [
    "issubclass( np.ndarray,np.matrix)\n",
    "# This is beacuse matrix is child of array"
   ]
  },
  {
   "cell_type": "markdown",
   "id": "64b26a79",
   "metadata": {},
   "source": [
    "#### Shallow copies duplicate as little as possible. A shallow copy of a collection is a copy of the collection structure, not the elements. With a shallow copy, two collections now share the individual elements.\n",
    "\n",
    "#### Deep copies duplicate everything. A deep copy of a collection is two collections with all of the elements in the original collection duplicated.."
   ]
  },
  {
   "cell_type": "code",
   "execution_count": 40,
   "id": "dda968be",
   "metadata": {},
   "outputs": [
    {
     "data": {
      "text/plain": [
       "array([[11, 33],\n",
       "       [44, 55]])"
      ]
     },
     "execution_count": 40,
     "metadata": {},
     "output_type": "execute_result"
    }
   ],
   "source": [
    "arr"
   ]
  },
  {
   "cell_type": "code",
   "execution_count": 41,
   "id": "62c959d8",
   "metadata": {},
   "outputs": [],
   "source": [
    "a = arr\n",
    "# Shallow copy"
   ]
  },
  {
   "cell_type": "code",
   "execution_count": 42,
   "id": "bb2826c0",
   "metadata": {},
   "outputs": [],
   "source": [
    "b = np.copy(arr)\n",
    "# b is deep copy\n",
    "# This will copy the data of arr into new location where b is present\n",
    "# So if arr chnages b would not change."
   ]
  },
  {
   "cell_type": "code",
   "execution_count": 43,
   "id": "fced57a7",
   "metadata": {},
   "outputs": [],
   "source": [
    "arr[0][0] = 1000"
   ]
  },
  {
   "cell_type": "code",
   "execution_count": 44,
   "id": "5601af4b",
   "metadata": {},
   "outputs": [
    {
     "data": {
      "text/plain": [
       "array([[1000,   33],\n",
       "       [  44,   55]])"
      ]
     },
     "execution_count": 44,
     "metadata": {},
     "output_type": "execute_result"
    }
   ],
   "source": [
    "arr"
   ]
  },
  {
   "cell_type": "code",
   "execution_count": 45,
   "id": "cde6c7bf",
   "metadata": {},
   "outputs": [
    {
     "data": {
      "text/plain": [
       "array([[1000,   33],\n",
       "       [  44,   55]])"
      ]
     },
     "execution_count": 45,
     "metadata": {},
     "output_type": "execute_result"
    }
   ],
   "source": [
    "a"
   ]
  },
  {
   "cell_type": "code",
   "execution_count": 46,
   "id": "2f2e487e",
   "metadata": {},
   "outputs": [
    {
     "data": {
      "text/plain": [
       "array([[11, 33],\n",
       "       [44, 55]])"
      ]
     },
     "execution_count": 46,
     "metadata": {},
     "output_type": "execute_result"
    }
   ],
   "source": [
    "b\n",
    "# b is holding original value of arr"
   ]
  },
  {
   "cell_type": "code",
   "execution_count": null,
   "id": "06acdc89",
   "metadata": {},
   "outputs": [],
   "source": []
  },
  {
   "cell_type": "code",
   "execution_count": 47,
   "id": "b7fdd030",
   "metadata": {},
   "outputs": [
    {
     "data": {
      "text/plain": [
       "array([44, 55])"
      ]
     },
     "execution_count": 47,
     "metadata": {},
     "output_type": "execute_result"
    }
   ],
   "source": [
    "arr[-1]"
   ]
  },
  {
   "cell_type": "code",
   "execution_count": 48,
   "id": "4950a8b2",
   "metadata": {},
   "outputs": [
    {
     "name": "stdout",
     "output_type": "stream",
     "text": [
      "[1000   33]\n",
      "[44 55]\n"
     ]
    }
   ],
   "source": [
    "for i in arr:\n",
    "    print(i)"
   ]
  },
  {
   "cell_type": "code",
   "execution_count": null,
   "id": "1896855b",
   "metadata": {},
   "outputs": [],
   "source": []
  },
  {
   "cell_type": "code",
   "execution_count": 49,
   "id": "2d814dbe",
   "metadata": {},
   "outputs": [
    {
     "data": {
      "text/plain": [
       "array([[ True, False, False, False],\n",
       "       [False,  True, False, False],\n",
       "       [False, False,  True, False],\n",
       "       [False, False, False,  True]])"
      ]
     },
     "execution_count": 49,
     "metadata": {},
     "output_type": "execute_result"
    }
   ],
   "source": [
    "np.fromfunction(lambda i,j : i==j,(4,4))"
   ]
  },
  {
   "cell_type": "code",
   "execution_count": 50,
   "id": "c71f0875",
   "metadata": {},
   "outputs": [
    {
     "data": {
      "text/plain": [
       "array([[0., 0., 0., 0.],\n",
       "       [0., 1., 2., 3.],\n",
       "       [0., 2., 4., 6.],\n",
       "       [0., 3., 6., 9.]])"
      ]
     },
     "execution_count": 50,
     "metadata": {},
     "output_type": "execute_result"
    }
   ],
   "source": [
    "np.fromfunction(lambda i,j : i*j,(4,4))"
   ]
  },
  {
   "cell_type": "code",
   "execution_count": 51,
   "id": "644ed4ac",
   "metadata": {},
   "outputs": [
    {
     "data": {
      "text/plain": [
       "array([[ 1.,  0.,  0.,  0.],\n",
       "       [ 1.,  1.,  1.,  1.],\n",
       "       [ 1.,  2.,  4.,  8.],\n",
       "       [ 1.,  3.,  9., 27.]])"
      ]
     },
     "execution_count": 51,
     "metadata": {},
     "output_type": "execute_result"
    }
   ],
   "source": [
    "np.fromfunction(lambda i,j : i**j,(4,4))"
   ]
  },
  {
   "cell_type": "code",
   "execution_count": 52,
   "id": "7cbbaff4",
   "metadata": {},
   "outputs": [
    {
     "name": "stderr",
     "output_type": "stream",
     "text": [
      "<ipython-input-52-8b328dab25bb>:1: RuntimeWarning: divide by zero encountered in floor_divide\n",
      "  np.fromfunction(lambda i,j : i//j,(4,4))\n",
      "<ipython-input-52-8b328dab25bb>:1: RuntimeWarning: invalid value encountered in floor_divide\n",
      "  np.fromfunction(lambda i,j : i//j,(4,4))\n"
     ]
    },
    {
     "data": {
      "text/plain": [
       "array([[nan,  0.,  0.,  0.],\n",
       "       [inf,  1.,  0.,  0.],\n",
       "       [inf,  2.,  1.,  0.],\n",
       "       [inf,  3.,  1.,  1.]])"
      ]
     },
     "execution_count": 52,
     "metadata": {},
     "output_type": "execute_result"
    }
   ],
   "source": [
    "np.fromfunction(lambda i,j : i//j,(4,4))"
   ]
  },
  {
   "cell_type": "code",
   "execution_count": 53,
   "id": "3ce3ccbb",
   "metadata": {},
   "outputs": [
    {
     "name": "stderr",
     "output_type": "stream",
     "text": [
      "<ipython-input-53-abed1f2821d6>:1: RuntimeWarning: invalid value encountered in remainder\n",
      "  np.fromfunction(lambda i,j : i%j,(4,4))\n"
     ]
    },
    {
     "data": {
      "text/plain": [
       "array([[nan,  0.,  0.,  0.],\n",
       "       [nan,  0.,  1.,  1.],\n",
       "       [nan,  0.,  0.,  2.],\n",
       "       [nan,  0.,  1.,  0.]])"
      ]
     },
     "execution_count": 53,
     "metadata": {},
     "output_type": "execute_result"
    }
   ],
   "source": [
    "np.fromfunction(lambda i,j : i%j,(4,4))"
   ]
  },
  {
   "cell_type": "code",
   "execution_count": 54,
   "id": "fdf71253",
   "metadata": {},
   "outputs": [
    {
     "data": {
      "text/plain": [
       "<generator object <genexpr> at 0x000001700E2B0350>"
      ]
     },
     "execution_count": 54,
     "metadata": {},
     "output_type": "execute_result"
    }
   ],
   "source": [
    "(i*i for i in range(5))\n",
    "# creating a generator function"
   ]
  },
  {
   "cell_type": "code",
   "execution_count": 60,
   "id": "c2f9b33a",
   "metadata": {},
   "outputs": [],
   "source": [
    "gen = (i*i for i in range(5))"
   ]
  },
  {
   "cell_type": "code",
   "execution_count": 61,
   "id": "cb3b91a2",
   "metadata": {},
   "outputs": [
    {
     "data": {
      "text/plain": [
       "array([ 0,  1,  4,  9, 16])"
      ]
     },
     "execution_count": 61,
     "metadata": {},
     "output_type": "execute_result"
    }
   ],
   "source": [
    "np.fromiter(gen, dtype=int)\n",
    "# Generating array from iter "
   ]
  },
  {
   "cell_type": "code",
   "execution_count": 62,
   "id": "571f643f",
   "metadata": {},
   "outputs": [
    {
     "data": {
      "text/plain": [
       "array([1., 2., 3., 4., 5.])"
      ]
     },
     "execution_count": 62,
     "metadata": {},
     "output_type": "execute_result"
    }
   ],
   "source": [
    "np.fromstring('1,2,3,4,5,',sep=',')"
   ]
  },
  {
   "cell_type": "code",
   "execution_count": 63,
   "id": "9788b8c7",
   "metadata": {},
   "outputs": [
    {
     "data": {
      "text/plain": [
       "array([1.+0.j, 2.+0.j, 3.+0.j, 4.+0.j, 5.+0.j])"
      ]
     },
     "execution_count": 63,
     "metadata": {},
     "output_type": "execute_result"
    }
   ],
   "source": [
    "np.fromstring('1,2,3,4,5,',sep=',',dtype = complex)"
   ]
  },
  {
   "cell_type": "code",
   "execution_count": 64,
   "id": "efb2873a",
   "metadata": {},
   "outputs": [],
   "source": [
    "arr1 = np.array([[1,2,3],[4,5,6],[7,8,9]]) "
   ]
  },
  {
   "cell_type": "code",
   "execution_count": 65,
   "id": "2246a560",
   "metadata": {},
   "outputs": [
    {
     "data": {
      "text/plain": [
       "array([[1, 2, 3],\n",
       "       [4, 5, 6],\n",
       "       [7, 8, 9]])"
      ]
     },
     "execution_count": 65,
     "metadata": {},
     "output_type": "execute_result"
    }
   ],
   "source": [
    "arr1"
   ]
  },
  {
   "cell_type": "markdown",
   "id": "788864bc",
   "metadata": {},
   "source": [
    "#### Finding dimension of array using ndim function."
   ]
  },
  {
   "cell_type": "code",
   "execution_count": 66,
   "id": "c85b7d47",
   "metadata": {},
   "outputs": [
    {
     "data": {
      "text/plain": [
       "2"
      ]
     },
     "execution_count": 66,
     "metadata": {},
     "output_type": "execute_result"
    }
   ],
   "source": [
    "arr1.ndim"
   ]
  },
  {
   "cell_type": "markdown",
   "id": "27da9c12",
   "metadata": {},
   "source": [
    "#### Finding total number of elements in array using size"
   ]
  },
  {
   "cell_type": "code",
   "execution_count": 67,
   "id": "1677c073",
   "metadata": {},
   "outputs": [
    {
     "data": {
      "text/plain": [
       "9"
      ]
     },
     "execution_count": 67,
     "metadata": {},
     "output_type": "execute_result"
    }
   ],
   "source": [
    "arr1.size"
   ]
  },
  {
   "cell_type": "markdown",
   "id": "20474119",
   "metadata": {},
   "source": [
    "#### Finding shape of array"
   ]
  },
  {
   "cell_type": "code",
   "execution_count": 68,
   "id": "b4d9aa46",
   "metadata": {},
   "outputs": [
    {
     "data": {
      "text/plain": [
       "(3, 3)"
      ]
     },
     "execution_count": 68,
     "metadata": {},
     "output_type": "execute_result"
    }
   ],
   "source": [
    "arr1.shape"
   ]
  },
  {
   "cell_type": "markdown",
   "id": "68e4d78b",
   "metadata": {},
   "source": [
    "#### Finding elements type of array"
   ]
  },
  {
   "cell_type": "code",
   "execution_count": null,
   "id": "af324196",
   "metadata": {},
   "outputs": [],
   "source": [
    "arr1.dtype"
   ]
  },
  {
   "cell_type": "code",
   "execution_count": null,
   "id": "323494f4",
   "metadata": {},
   "outputs": [],
   "source": []
  },
  {
   "cell_type": "code",
   "execution_count": 75,
   "id": "0be18ea8",
   "metadata": {},
   "outputs": [
    {
     "data": {
      "text/plain": [
       "array([[[1, 2, 3, 4],\n",
       "        [5, 6, 7, 8]],\n",
       "\n",
       "       [[1, 2, 3, 4],\n",
       "        [5, 6, 7, 8]]])"
      ]
     },
     "execution_count": 75,
     "metadata": {},
     "output_type": "execute_result"
    }
   ],
   "source": [
    "arr2 = np.array([[[1,2,3,4],[5,6,7,8]], [[1,2,3,4],[5,6,7,8]]])\n",
    "arr2"
   ]
  },
  {
   "cell_type": "code",
   "execution_count": 79,
   "id": "d622ad4e",
   "metadata": {},
   "outputs": [
    {
     "data": {
      "text/plain": [
       "(2, 2, 4)"
      ]
     },
     "execution_count": 79,
     "metadata": {},
     "output_type": "execute_result"
    }
   ],
   "source": [
    "arr2.shape\n",
    "# Below statement means\n",
    "# We have 2 ARRAYS\n",
    "# With 2 ROWS\n",
    "# With 2 COLUMNS"
   ]
  },
  {
   "cell_type": "code",
   "execution_count": 78,
   "id": "fa8d3ddb",
   "metadata": {},
   "outputs": [
    {
     "data": {
      "text/plain": [
       "3"
      ]
     },
     "execution_count": 78,
     "metadata": {},
     "output_type": "execute_result"
    }
   ],
   "source": [
    "arr2.ndim\n",
    "# You can also check that by counting SQUARE brackets just after ROUND brackets "
   ]
  },
  {
   "cell_type": "code",
   "execution_count": 77,
   "id": "aac802d3",
   "metadata": {},
   "outputs": [
    {
     "data": {
      "text/plain": [
       "16"
      ]
     },
     "execution_count": 77,
     "metadata": {},
     "output_type": "execute_result"
    }
   ],
   "source": [
    "arr2.size"
   ]
  },
  {
   "cell_type": "code",
   "execution_count": 80,
   "id": "407598ac",
   "metadata": {},
   "outputs": [],
   "source": [
    "arr3 = np.array([[[1,2,3,4],[5,6,7,8]], [[1,2,3,4],[5,6,7,8]],[[1,2,3,4],[5,6,7,8]],[[1,2,3,4],[5,6,7,8]]])"
   ]
  },
  {
   "cell_type": "code",
   "execution_count": 81,
   "id": "a760886e",
   "metadata": {},
   "outputs": [
    {
     "data": {
      "text/plain": [
       "3"
      ]
     },
     "execution_count": 81,
     "metadata": {},
     "output_type": "execute_result"
    }
   ],
   "source": [
    "arr3.ndim\n",
    "# By counting SQUARE brackets just after ROUND brackets."
   ]
  },
  {
   "cell_type": "code",
   "execution_count": 83,
   "id": "00c50002",
   "metadata": {},
   "outputs": [
    {
     "data": {
      "text/plain": [
       "(4, 2, 4)"
      ]
     },
     "execution_count": 83,
     "metadata": {},
     "output_type": "execute_result"
    }
   ],
   "source": [
    "arr3.shape\n",
    "# We have 4 ARRAYS.\n",
    "# With 2 ROWS.\n",
    "# With 4 COLUMNS."
   ]
  },
  {
   "cell_type": "markdown",
   "id": "79611341",
   "metadata": {},
   "source": [
    "#### Suppose we have following result : (6,4,2,4 )\n",
    "\n",
    "#### Start reading from backwards: \n",
    "\n",
    "#### 1. We have 4 columns.\n",
    "\n",
    "#### 2. We have 2 rows.\n",
    "\n",
    "#### 3. We have 4 Dimension matrix\n",
    "\n",
    "#### 4. We have 2*4 distributed in 3 dimension each"
   ]
  },
  {
   "cell_type": "code",
   "execution_count": null,
   "id": "1420b5a6",
   "metadata": {},
   "outputs": [],
   "source": []
  },
  {
   "cell_type": "code",
   "execution_count": 91,
   "id": "84e4ae24",
   "metadata": {},
   "outputs": [
    {
     "ename": "TypeError",
     "evalue": "'float' object cannot be interpreted as an integer",
     "output_type": "error",
     "traceback": [
      "\u001b[1;31m---------------------------------------------------------------------------\u001b[0m",
      "\u001b[1;31mTypeError\u001b[0m                                 Traceback (most recent call last)",
      "\u001b[1;32m<ipython-input-91-9943781b369d>\u001b[0m in \u001b[0;36m<module>\u001b[1;34m\u001b[0m\n\u001b[1;32m----> 1\u001b[1;33m \u001b[0mlist\u001b[0m\u001b[1;33m(\u001b[0m\u001b[0mrange\u001b[0m\u001b[1;33m(\u001b[0m\u001b[1;36m9.9\u001b[0m\u001b[1;33m)\u001b[0m\u001b[1;33m)\u001b[0m\u001b[1;33m\u001b[0m\u001b[1;33m\u001b[0m\u001b[0m\n\u001b[0m",
      "\u001b[1;31mTypeError\u001b[0m: 'float' object cannot be interpreted as an integer"
     ]
    }
   ],
   "source": [
    "list(range(9.9))\n",
    "# We can see that in core python\n",
    "# Range does not supports float value "
   ]
  },
  {
   "cell_type": "markdown",
   "id": "16a3b147",
   "metadata": {},
   "source": [
    "#### But a similar to range fucntion exist in numpy and takes float value "
   ]
  },
  {
   "cell_type": "code",
   "execution_count": 97,
   "id": "8dfee185",
   "metadata": {},
   "outputs": [
    {
     "data": {
      "text/plain": [
       "array([0., 1., 2., 3., 4., 5., 6., 7., 8., 9.])"
      ]
     },
     "execution_count": 97,
     "metadata": {},
     "output_type": "execute_result"
    }
   ],
   "source": [
    "np.arange(9.9)"
   ]
  },
  {
   "cell_type": "markdown",
   "id": "9ce814c1",
   "metadata": {},
   "source": [
    "#### We can define starting point and jump from the points as shown below."
   ]
  },
  {
   "cell_type": "code",
   "execution_count": null,
   "id": "d069a213",
   "metadata": {},
   "outputs": [],
   "source": [
    "np.arange(9.9)"
   ]
  },
  {
   "cell_type": "code",
   "execution_count": 101,
   "id": "6ab934ac",
   "metadata": {},
   "outputs": [
    {
     "data": {
      "text/plain": [
       "array([ 9.9, 10.1, 10.3, 10.5, 10.7, 10.9, 11.1, 11.3, 11.5, 11.7, 11.9,\n",
       "       12.1, 12.3, 12.5, 12.7, 12.9, 13.1, 13.3, 13.5, 13.7, 13.9, 14.1,\n",
       "       14.3, 14.5, 14.7, 14.9])"
      ]
     },
     "execution_count": 101,
     "metadata": {},
     "output_type": "execute_result"
    }
   ],
   "source": [
    "np.arange(9.9,15,.2)"
   ]
  },
  {
   "cell_type": "code",
   "execution_count": 105,
   "id": "5b630fb7",
   "metadata": {},
   "outputs": [
    {
     "data": {
      "text/plain": [
       "array([], dtype=float64)"
      ]
     },
     "execution_count": 105,
     "metadata": {},
     "output_type": "execute_result"
    }
   ],
   "source": [
    "np.arange(9.9,12,-.2)\n",
    "# Remember the list concept \n",
    "# Your starting point is 9.9 and you have to reach 12\n",
    "# But jump is in negative direction so O/P will be blank."
   ]
  },
  {
   "cell_type": "code",
   "execution_count": 106,
   "id": "f256c231",
   "metadata": {},
   "outputs": [
    {
     "data": {
      "text/plain": [
       "array([9.9, 9.7, 9.5, 9.3, 9.1, 8.9, 8.7, 8.5, 8.3, 8.1, 7.9, 7.7, 7.5,\n",
       "       7.3, 7.1, 6.9, 6.7, 6.5, 6.3, 6.1, 5.9, 5.7, 5.5, 5.3, 5.1, 4.9,\n",
       "       4.7, 4.5, 4.3, 4.1, 3.9, 3.7, 3.5, 3.3, 3.1, 2.9, 2.7, 2.5, 2.3,\n",
       "       2.1])"
      ]
     },
     "execution_count": 106,
     "metadata": {},
     "output_type": "execute_result"
    }
   ],
   "source": [
    "np.arange(9.9,2,-.2)"
   ]
  },
  {
   "cell_type": "markdown",
   "id": "c6c6ab27",
   "metadata": {},
   "source": [
    "#### Generating 50 numbers in Array using linespace."
   ]
  },
  {
   "cell_type": "code",
   "execution_count": 110,
   "id": "44a7fae6",
   "metadata": {},
   "outputs": [
    {
     "data": {
      "text/plain": [
       "array([3.        , 3.10204082, 3.20408163, 3.30612245, 3.40816327,\n",
       "       3.51020408, 3.6122449 , 3.71428571, 3.81632653, 3.91836735,\n",
       "       4.02040816, 4.12244898, 4.2244898 , 4.32653061, 4.42857143,\n",
       "       4.53061224, 4.63265306, 4.73469388, 4.83673469, 4.93877551,\n",
       "       5.04081633, 5.14285714, 5.24489796, 5.34693878, 5.44897959,\n",
       "       5.55102041, 5.65306122, 5.75510204, 5.85714286, 5.95918367,\n",
       "       6.06122449, 6.16326531, 6.26530612, 6.36734694, 6.46938776,\n",
       "       6.57142857, 6.67346939, 6.7755102 , 6.87755102, 6.97959184,\n",
       "       7.08163265, 7.18367347, 7.28571429, 7.3877551 , 7.48979592,\n",
       "       7.59183673, 7.69387755, 7.79591837, 7.89795918, 8.        ])"
      ]
     },
     "execution_count": 110,
     "metadata": {},
     "output_type": "execute_result"
    }
   ],
   "source": [
    "np.linspace(3,8)"
   ]
  },
  {
   "cell_type": "code",
   "execution_count": 111,
   "id": "9b76ae97",
   "metadata": {},
   "outputs": [
    {
     "data": {
      "text/plain": [
       "array([1.        , 1.02040816, 1.04081633, 1.06122449, 1.08163265,\n",
       "       1.10204082, 1.12244898, 1.14285714, 1.16326531, 1.18367347,\n",
       "       1.20408163, 1.2244898 , 1.24489796, 1.26530612, 1.28571429,\n",
       "       1.30612245, 1.32653061, 1.34693878, 1.36734694, 1.3877551 ,\n",
       "       1.40816327, 1.42857143, 1.44897959, 1.46938776, 1.48979592,\n",
       "       1.51020408, 1.53061224, 1.55102041, 1.57142857, 1.59183673,\n",
       "       1.6122449 , 1.63265306, 1.65306122, 1.67346939, 1.69387755,\n",
       "       1.71428571, 1.73469388, 1.75510204, 1.7755102 , 1.79591837,\n",
       "       1.81632653, 1.83673469, 1.85714286, 1.87755102, 1.89795918,\n",
       "       1.91836735, 1.93877551, 1.95918367, 1.97959184, 2.        ])"
      ]
     },
     "execution_count": 111,
     "metadata": {},
     "output_type": "execute_result"
    }
   ],
   "source": [
    "np.linspace(1,2)"
   ]
  },
  {
   "cell_type": "code",
   "execution_count": 113,
   "id": "e5c57056",
   "metadata": {},
   "outputs": [
    {
     "data": {
      "text/plain": [
       "array([1.  , 1.25, 1.5 , 1.75, 2.  ])"
      ]
     },
     "execution_count": 113,
     "metadata": {},
     "output_type": "execute_result"
    }
   ],
   "source": [
    "np.linspace(1,2,5)\n",
    "# Here step size is defined as 5."
   ]
  },
  {
   "cell_type": "code",
   "execution_count": null,
   "id": "f9bc63d1",
   "metadata": {},
   "outputs": [],
   "source": []
  },
  {
   "cell_type": "markdown",
   "id": "7aa9fd06",
   "metadata": {},
   "source": [
    "#### Creating an Identity matrixes using eye()"
   ]
  },
  {
   "cell_type": "code",
   "execution_count": 115,
   "id": "7d80cb84",
   "metadata": {},
   "outputs": [
    {
     "data": {
      "text/plain": [
       "array([[1., 0., 0.],\n",
       "       [0., 1., 0.],\n",
       "       [0., 0., 1.]])"
      ]
     },
     "execution_count": 115,
     "metadata": {},
     "output_type": "execute_result"
    }
   ],
   "source": [
    "np.eye(3)"
   ]
  },
  {
   "cell_type": "code",
   "execution_count": 117,
   "id": "5d468c5a",
   "metadata": {},
   "outputs": [
    {
     "data": {
      "text/plain": [
       "array([[1., 0., 0., 0., 0.],\n",
       "       [0., 1., 0., 0., 0.],\n",
       "       [0., 0., 1., 0., 0.],\n",
       "       [0., 0., 0., 1., 0.],\n",
       "       [0., 0., 0., 0., 1.]])"
      ]
     },
     "execution_count": 117,
     "metadata": {},
     "output_type": "execute_result"
    }
   ],
   "source": [
    "np.eye(5)"
   ]
  },
  {
   "cell_type": "markdown",
   "id": "a734ebea",
   "metadata": {},
   "source": [
    "#### Transposing a array using Linspace "
   ]
  },
  {
   "cell_type": "code",
   "execution_count": 125,
   "id": "a656f3bd",
   "metadata": {},
   "outputs": [
    {
     "data": {
      "text/plain": [
       "array([2.        , 2.04081633, 2.08163265, 2.12244898, 2.16326531,\n",
       "       2.20408163, 2.24489796, 2.28571429, 2.32653061, 2.36734694,\n",
       "       2.40816327, 2.44897959, 2.48979592, 2.53061224, 2.57142857,\n",
       "       2.6122449 , 2.65306122, 2.69387755, 2.73469388, 2.7755102 ,\n",
       "       2.81632653, 2.85714286, 2.89795918, 2.93877551, 2.97959184,\n",
       "       3.02040816, 3.06122449, 3.10204082, 3.14285714, 3.18367347,\n",
       "       3.2244898 , 3.26530612, 3.30612245, 3.34693878, 3.3877551 ,\n",
       "       3.42857143, 3.46938776, 3.51020408, 3.55102041, 3.59183673,\n",
       "       3.63265306, 3.67346939, 3.71428571, 3.75510204, 3.79591837,\n",
       "       3.83673469, 3.87755102, 3.91836735, 3.95918367, 4.        ])"
      ]
     },
     "execution_count": 125,
     "metadata": {},
     "output_type": "execute_result"
    }
   ],
   "source": [
    "np.linspace(2,4)"
   ]
  },
  {
   "cell_type": "code",
   "execution_count": 126,
   "id": "4ce1c27e",
   "metadata": {},
   "outputs": [
    {
     "data": {
      "text/plain": [
       "array([2.        , 2.66666667, 3.33333333, 4.        ])"
      ]
     },
     "execution_count": 126,
     "metadata": {},
     "output_type": "execute_result"
    }
   ],
   "source": [
    "np.linspace(2,4,4)"
   ]
  },
  {
   "cell_type": "code",
   "execution_count": 128,
   "id": "003b0af8",
   "metadata": {},
   "outputs": [
    {
     "data": {
      "text/plain": [
       "array([2. , 2.5, 3. , 3.5])"
      ]
     },
     "execution_count": 128,
     "metadata": {},
     "output_type": "execute_result"
    }
   ],
   "source": [
    "np.linspace(2,4,4,endpoint=False)\n",
    "# Endpoint means not include upper bound.\n",
    "# By default it is set true"
   ]
  },
  {
   "cell_type": "code",
   "execution_count": 129,
   "id": "fb19f33e",
   "metadata": {},
   "outputs": [
    {
     "data": {
      "text/plain": [
       "100"
      ]
     },
     "execution_count": 129,
     "metadata": {},
     "output_type": "execute_result"
    }
   ],
   "source": [
    "np.linspace([1,6],4,endpoint=False,axis=0).size\n",
    "# Axis = 0 reperesents X axis\n",
    "# Axis = 1 reperesents Y axis"
   ]
  },
  {
   "cell_type": "code",
   "execution_count": 123,
   "id": "65860afa",
   "metadata": {},
   "outputs": [
    {
     "data": {
      "text/plain": [
       "array([[1.  , 6.  ],\n",
       "       [1.06, 5.96],\n",
       "       [1.12, 5.92],\n",
       "       [1.18, 5.88],\n",
       "       [1.24, 5.84],\n",
       "       [1.3 , 5.8 ],\n",
       "       [1.36, 5.76],\n",
       "       [1.42, 5.72],\n",
       "       [1.48, 5.68],\n",
       "       [1.54, 5.64],\n",
       "       [1.6 , 5.6 ],\n",
       "       [1.66, 5.56],\n",
       "       [1.72, 5.52],\n",
       "       [1.78, 5.48],\n",
       "       [1.84, 5.44],\n",
       "       [1.9 , 5.4 ],\n",
       "       [1.96, 5.36],\n",
       "       [2.02, 5.32],\n",
       "       [2.08, 5.28],\n",
       "       [2.14, 5.24],\n",
       "       [2.2 , 5.2 ],\n",
       "       [2.26, 5.16],\n",
       "       [2.32, 5.12],\n",
       "       [2.38, 5.08],\n",
       "       [2.44, 5.04],\n",
       "       [2.5 , 5.  ],\n",
       "       [2.56, 4.96],\n",
       "       [2.62, 4.92],\n",
       "       [2.68, 4.88],\n",
       "       [2.74, 4.84],\n",
       "       [2.8 , 4.8 ],\n",
       "       [2.86, 4.76],\n",
       "       [2.92, 4.72],\n",
       "       [2.98, 4.68],\n",
       "       [3.04, 4.64],\n",
       "       [3.1 , 4.6 ],\n",
       "       [3.16, 4.56],\n",
       "       [3.22, 4.52],\n",
       "       [3.28, 4.48],\n",
       "       [3.34, 4.44],\n",
       "       [3.4 , 4.4 ],\n",
       "       [3.46, 4.36],\n",
       "       [3.52, 4.32],\n",
       "       [3.58, 4.28],\n",
       "       [3.64, 4.24],\n",
       "       [3.7 , 4.2 ],\n",
       "       [3.76, 4.16],\n",
       "       [3.82, 4.12],\n",
       "       [3.88, 4.08],\n",
       "       [3.94, 4.04]])"
      ]
     },
     "execution_count": 123,
     "metadata": {},
     "output_type": "execute_result"
    }
   ],
   "source": [
    "np.linspace([1,6],4,endpoint=False,axis=0)\n",
    "# start and stop in square brackets."
   ]
  },
  {
   "cell_type": "code",
   "execution_count": 124,
   "id": "778287ab",
   "metadata": {},
   "outputs": [
    {
     "data": {
      "text/plain": [
       "array([[1.  , 1.06, 1.12, 1.18, 1.24, 1.3 , 1.36, 1.42, 1.48, 1.54, 1.6 ,\n",
       "        1.66, 1.72, 1.78, 1.84, 1.9 , 1.96, 2.02, 2.08, 2.14, 2.2 , 2.26,\n",
       "        2.32, 2.38, 2.44, 2.5 , 2.56, 2.62, 2.68, 2.74, 2.8 , 2.86, 2.92,\n",
       "        2.98, 3.04, 3.1 , 3.16, 3.22, 3.28, 3.34, 3.4 , 3.46, 3.52, 3.58,\n",
       "        3.64, 3.7 , 3.76, 3.82, 3.88, 3.94],\n",
       "       [6.  , 5.96, 5.92, 5.88, 5.84, 5.8 , 5.76, 5.72, 5.68, 5.64, 5.6 ,\n",
       "        5.56, 5.52, 5.48, 5.44, 5.4 , 5.36, 5.32, 5.28, 5.24, 5.2 , 5.16,\n",
       "        5.12, 5.08, 5.04, 5.  , 4.96, 4.92, 4.88, 4.84, 4.8 , 4.76, 4.72,\n",
       "        4.68, 4.64, 4.6 , 4.56, 4.52, 4.48, 4.44, 4.4 , 4.36, 4.32, 4.28,\n",
       "        4.24, 4.2 , 4.16, 4.12, 4.08, 4.04]])"
      ]
     },
     "execution_count": 124,
     "metadata": {},
     "output_type": "execute_result"
    }
   ],
   "source": [
    "np.linspace([1,6],4,endpoint=False,axis=1)"
   ]
  },
  {
   "cell_type": "code",
   "execution_count": 130,
   "id": "75e5eace",
   "metadata": {},
   "outputs": [
    {
     "data": {
      "text/plain": [
       "2"
      ]
     },
     "execution_count": 130,
     "metadata": {},
     "output_type": "execute_result"
    }
   ],
   "source": [
    "np.linspace([1,6],4,endpoint=False,axis=1).ndim"
   ]
  },
  {
   "cell_type": "code",
   "execution_count": null,
   "id": "d68422e3",
   "metadata": {},
   "outputs": [],
   "source": []
  },
  {
   "cell_type": "code",
   "execution_count": 134,
   "id": "f420fc7d",
   "metadata": {},
   "outputs": [],
   "source": [
    "d = np.linspace(4,7,40)\n",
    "# We have generated 40 values \n",
    "# Range of these values will be 4 to 7."
   ]
  },
  {
   "cell_type": "code",
   "execution_count": 135,
   "id": "71760be3",
   "metadata": {},
   "outputs": [
    {
     "data": {
      "text/plain": [
       "array([4.        , 4.07692308, 4.15384615, 4.23076923, 4.30769231,\n",
       "       4.38461538, 4.46153846, 4.53846154, 4.61538462, 4.69230769,\n",
       "       4.76923077, 4.84615385, 4.92307692, 5.        , 5.07692308,\n",
       "       5.15384615, 5.23076923, 5.30769231, 5.38461538, 5.46153846,\n",
       "       5.53846154, 5.61538462, 5.69230769, 5.76923077, 5.84615385,\n",
       "       5.92307692, 6.        , 6.07692308, 6.15384615, 6.23076923,\n",
       "       6.30769231, 6.38461538, 6.46153846, 6.53846154, 6.61538462,\n",
       "       6.69230769, 6.76923077, 6.84615385, 6.92307692, 7.        ])"
      ]
     },
     "execution_count": 135,
     "metadata": {},
     "output_type": "execute_result"
    }
   ],
   "source": [
    "d"
   ]
  },
  {
   "cell_type": "code",
   "execution_count": 136,
   "id": "960bd070",
   "metadata": {},
   "outputs": [
    {
     "data": {
      "text/plain": [
       "1"
      ]
     },
     "execution_count": 136,
     "metadata": {},
     "output_type": "execute_result"
    }
   ],
   "source": [
    "d.ndim"
   ]
  },
  {
   "cell_type": "markdown",
   "id": "3ffd5fc1",
   "metadata": {},
   "source": [
    "#### Reshaping the value of D Array data"
   ]
  },
  {
   "cell_type": "code",
   "execution_count": 137,
   "id": "bae2f89f",
   "metadata": {},
   "outputs": [
    {
     "data": {
      "text/plain": [
       "array([[4.        ],\n",
       "       [4.07692308],\n",
       "       [4.15384615],\n",
       "       [4.23076923],\n",
       "       [4.30769231],\n",
       "       [4.38461538],\n",
       "       [4.46153846],\n",
       "       [4.53846154],\n",
       "       [4.61538462],\n",
       "       [4.69230769],\n",
       "       [4.76923077],\n",
       "       [4.84615385],\n",
       "       [4.92307692],\n",
       "       [5.        ],\n",
       "       [5.07692308],\n",
       "       [5.15384615],\n",
       "       [5.23076923],\n",
       "       [5.30769231],\n",
       "       [5.38461538],\n",
       "       [5.46153846],\n",
       "       [5.53846154],\n",
       "       [5.61538462],\n",
       "       [5.69230769],\n",
       "       [5.76923077],\n",
       "       [5.84615385],\n",
       "       [5.92307692],\n",
       "       [6.        ],\n",
       "       [6.07692308],\n",
       "       [6.15384615],\n",
       "       [6.23076923],\n",
       "       [6.30769231],\n",
       "       [6.38461538],\n",
       "       [6.46153846],\n",
       "       [6.53846154],\n",
       "       [6.61538462],\n",
       "       [6.69230769],\n",
       "       [6.76923077],\n",
       "       [6.84615385],\n",
       "       [6.92307692],\n",
       "       [7.        ]])"
      ]
     },
     "execution_count": 137,
     "metadata": {},
     "output_type": "execute_result"
    }
   ],
   "source": [
    "d.reshape(40,1)\n",
    "# d was originally consisted of 1 row and 40 columns \n",
    "# which was shown using ndim\n",
    "# The resphaped has changed it's shape"
   ]
  },
  {
   "cell_type": "code",
   "execution_count": 138,
   "id": "bb3fa39c",
   "metadata": {},
   "outputs": [
    {
     "ename": "ValueError",
     "evalue": "cannot reshape array of size 40 into shape (400,1)",
     "output_type": "error",
     "traceback": [
      "\u001b[1;31m---------------------------------------------------------------------------\u001b[0m",
      "\u001b[1;31mValueError\u001b[0m                                Traceback (most recent call last)",
      "\u001b[1;32m<ipython-input-138-2944fe3630a9>\u001b[0m in \u001b[0;36m<module>\u001b[1;34m\u001b[0m\n\u001b[1;32m----> 1\u001b[1;33m \u001b[0md\u001b[0m\u001b[1;33m.\u001b[0m\u001b[0mreshape\u001b[0m\u001b[1;33m(\u001b[0m\u001b[1;36m400\u001b[0m\u001b[1;33m,\u001b[0m\u001b[1;36m1\u001b[0m\u001b[1;33m)\u001b[0m\u001b[1;33m\u001b[0m\u001b[1;33m\u001b[0m\u001b[0m\n\u001b[0m",
      "\u001b[1;31mValueError\u001b[0m: cannot reshape array of size 40 into shape (400,1)"
     ]
    }
   ],
   "source": [
    "d.reshape(400,1)"
   ]
  },
  {
   "cell_type": "code",
   "execution_count": 139,
   "id": "92a149b1",
   "metadata": {},
   "outputs": [
    {
     "ename": "ValueError",
     "evalue": "cannot reshape array of size 40 into shape (4,1)",
     "output_type": "error",
     "traceback": [
      "\u001b[1;31m---------------------------------------------------------------------------\u001b[0m",
      "\u001b[1;31mValueError\u001b[0m                                Traceback (most recent call last)",
      "\u001b[1;32m<ipython-input-139-e4da23bafdb6>\u001b[0m in \u001b[0;36m<module>\u001b[1;34m\u001b[0m\n\u001b[1;32m----> 1\u001b[1;33m \u001b[0md\u001b[0m\u001b[1;33m.\u001b[0m\u001b[0mreshape\u001b[0m\u001b[1;33m(\u001b[0m\u001b[1;36m4\u001b[0m\u001b[1;33m,\u001b[0m\u001b[1;36m1\u001b[0m\u001b[1;33m)\u001b[0m\u001b[1;33m\u001b[0m\u001b[1;33m\u001b[0m\u001b[0m\n\u001b[0m",
      "\u001b[1;31mValueError\u001b[0m: cannot reshape array of size 40 into shape (4,1)"
     ]
    }
   ],
   "source": [
    "d.reshape(4,1)"
   ]
  },
  {
   "cell_type": "markdown",
   "id": "ede5f80a",
   "metadata": {},
   "source": [
    "#### We can see from above errors that how if we don't put releasitic value in reshaping we will get error."
   ]
  },
  {
   "cell_type": "markdown",
   "id": "61b8d7df",
   "metadata": {},
   "source": [
    "#### While reshaping we need to make sure that the product of number must lead to the total size of array. Please refer to below examples."
   ]
  },
  {
   "cell_type": "code",
   "execution_count": 140,
   "id": "ec097c9d",
   "metadata": {},
   "outputs": [
    {
     "data": {
      "text/plain": [
       "array([[[4.        , 4.07692308, 4.15384615, 4.23076923, 4.30769231,\n",
       "         4.38461538, 4.46153846, 4.53846154, 4.61538462, 4.69230769,\n",
       "         4.76923077, 4.84615385, 4.92307692, 5.        , 5.07692308,\n",
       "         5.15384615, 5.23076923, 5.30769231, 5.38461538, 5.46153846],\n",
       "        [5.53846154, 5.61538462, 5.69230769, 5.76923077, 5.84615385,\n",
       "         5.92307692, 6.        , 6.07692308, 6.15384615, 6.23076923,\n",
       "         6.30769231, 6.38461538, 6.46153846, 6.53846154, 6.61538462,\n",
       "         6.69230769, 6.76923077, 6.84615385, 6.92307692, 7.        ]]])"
      ]
     },
     "execution_count": 140,
     "metadata": {},
     "output_type": "execute_result"
    }
   ],
   "source": [
    "d.reshape(1,2,20)"
   ]
  },
  {
   "cell_type": "code",
   "execution_count": 142,
   "id": "d4cae7f5",
   "metadata": {},
   "outputs": [
    {
     "data": {
      "text/plain": [
       "array([[4.        , 4.07692308, 4.15384615, 4.23076923, 4.30769231,\n",
       "        4.38461538, 4.46153846, 4.53846154, 4.61538462, 4.69230769],\n",
       "       [4.76923077, 4.84615385, 4.92307692, 5.        , 5.07692308,\n",
       "        5.15384615, 5.23076923, 5.30769231, 5.38461538, 5.46153846],\n",
       "       [5.53846154, 5.61538462, 5.69230769, 5.76923077, 5.84615385,\n",
       "        5.92307692, 6.        , 6.07692308, 6.15384615, 6.23076923],\n",
       "       [6.30769231, 6.38461538, 6.46153846, 6.53846154, 6.61538462,\n",
       "        6.69230769, 6.76923077, 6.84615385, 6.92307692, 7.        ]])"
      ]
     },
     "execution_count": 142,
     "metadata": {},
     "output_type": "execute_result"
    }
   ],
   "source": [
    "d.reshape(4,10)"
   ]
  },
  {
   "cell_type": "code",
   "execution_count": 143,
   "id": "9dcc8b49",
   "metadata": {},
   "outputs": [
    {
     "data": {
      "text/plain": [
       "array([[[4.        , 4.07692308, 4.15384615, 4.23076923, 4.30769231,\n",
       "         4.38461538, 4.46153846, 4.53846154, 4.61538462, 4.69230769],\n",
       "        [4.76923077, 4.84615385, 4.92307692, 5.        , 5.07692308,\n",
       "         5.15384615, 5.23076923, 5.30769231, 5.38461538, 5.46153846]],\n",
       "\n",
       "       [[5.53846154, 5.61538462, 5.69230769, 5.76923077, 5.84615385,\n",
       "         5.92307692, 6.        , 6.07692308, 6.15384615, 6.23076923],\n",
       "        [6.30769231, 6.38461538, 6.46153846, 6.53846154, 6.61538462,\n",
       "         6.69230769, 6.76923077, 6.84615385, 6.92307692, 7.        ]]])"
      ]
     },
     "execution_count": 143,
     "metadata": {},
     "output_type": "execute_result"
    }
   ],
   "source": [
    "d.reshape(2,2,10)"
   ]
  },
  {
   "cell_type": "code",
   "execution_count": 144,
   "id": "1869d603",
   "metadata": {},
   "outputs": [
    {
     "data": {
      "text/plain": [
       "array([[[[4.        , 4.07692308, 4.15384615, 4.23076923, 4.30769231,\n",
       "          4.38461538, 4.46153846, 4.53846154, 4.61538462, 4.69230769],\n",
       "         [4.76923077, 4.84615385, 4.92307692, 5.        , 5.07692308,\n",
       "          5.15384615, 5.23076923, 5.30769231, 5.38461538, 5.46153846]],\n",
       "\n",
       "        [[5.53846154, 5.61538462, 5.69230769, 5.76923077, 5.84615385,\n",
       "          5.92307692, 6.        , 6.07692308, 6.15384615, 6.23076923],\n",
       "         [6.30769231, 6.38461538, 6.46153846, 6.53846154, 6.61538462,\n",
       "          6.69230769, 6.76923077, 6.84615385, 6.92307692, 7.        ]]]])"
      ]
     },
     "execution_count": 144,
     "metadata": {},
     "output_type": "execute_result"
    }
   ],
   "source": [
    "d.reshape(1,2,2,10)"
   ]
  },
  {
   "cell_type": "code",
   "execution_count": 145,
   "id": "f9d43b71",
   "metadata": {},
   "outputs": [
    {
     "data": {
      "text/plain": [
       "array([[[[[[[[[4.        , 4.07692308, 4.15384615, 4.23076923,\n",
       "               4.30769231, 4.38461538, 4.46153846, 4.53846154,\n",
       "               4.61538462, 4.69230769, 4.76923077, 4.84615385,\n",
       "               4.92307692, 5.        , 5.07692308, 5.15384615,\n",
       "               5.23076923, 5.30769231, 5.38461538, 5.46153846,\n",
       "               5.53846154, 5.61538462, 5.69230769, 5.76923077,\n",
       "               5.84615385, 5.92307692, 6.        , 6.07692308,\n",
       "               6.15384615, 6.23076923, 6.30769231, 6.38461538,\n",
       "               6.46153846, 6.53846154, 6.61538462, 6.69230769,\n",
       "               6.76923077, 6.84615385, 6.92307692, 7.        ]]]]]]]]])"
      ]
     },
     "execution_count": 145,
     "metadata": {},
     "output_type": "execute_result"
    }
   ],
   "source": [
    "d.reshape(1,1,1,1,1,1,1,1,40)"
   ]
  },
  {
   "cell_type": "code",
   "execution_count": null,
   "id": "f54c7b1e",
   "metadata": {},
   "outputs": [],
   "source": []
  },
  {
   "cell_type": "markdown",
   "id": "3966bed0",
   "metadata": {},
   "source": [
    "#### Generating Random data in Array using random.rand()\n",
    "\n",
    "#### Values generated will be of GAUSSIAN DISTRIBUTION studied in STATS"
   ]
  },
  {
   "cell_type": "code",
   "execution_count": 146,
   "id": "2430f334",
   "metadata": {},
   "outputs": [
    {
     "data": {
      "text/plain": [
       "array([0.21986156, 0.74701507, 0.96455461])"
      ]
     },
     "execution_count": 146,
     "metadata": {},
     "output_type": "execute_result"
    }
   ],
   "source": [
    "np.random.rand(3)"
   ]
  },
  {
   "cell_type": "code",
   "execution_count": 149,
   "id": "eadf7452",
   "metadata": {},
   "outputs": [
    {
     "data": {
      "text/plain": [
       "array([-0.26224942, -0.85416577,  1.08701219,  1.87502412, -0.56023911])"
      ]
     },
     "execution_count": 149,
     "metadata": {},
     "output_type": "execute_result"
    }
   ],
   "source": [
    "np.random.randn(5)\n",
    "# This value will be of standard NORMAL distribution "
   ]
  },
  {
   "cell_type": "markdown",
   "id": "31cad40e",
   "metadata": {},
   "source": [
    "####  The standard normal distribution, also called the z-distribution, is a special normal distribution where the mean is 0 and the standard deviation is 1.\n",
    "\n",
    "#### Any normal distribution can be standardized by converting its values into z-scores. Z-scores tell you how many standard deviations from the mean each value lies."
   ]
  },
  {
   "attachments": {
    "image.png": {
     "image/png": "[encoded data removed]"
    }
   },
   "cell_type": "markdown",
   "id": "74fa6ece",
   "metadata": {},
   "source": [
    "![image.png](attachment:image.png)"
   ]
  },
  {
   "cell_type": "markdown",
   "id": "ea068fb6",
   "metadata": {},
   "source": [
    "#### All normal distributions, like the standard normal distribution, are unimodal and symmetrically distributed with a bell-shaped curve. However, a normal distribution can take on any value as its mean and standard deviation. In the standard normal distribution, the mean and standard deviation are always fixed."
   ]
  },
  {
   "cell_type": "code",
   "execution_count": null,
   "id": "f4e145da",
   "metadata": {},
   "outputs": [],
   "source": []
  },
  {
   "cell_type": "code",
   "execution_count": 151,
   "id": "c8ace4aa",
   "metadata": {},
   "outputs": [
    {
     "data": {
      "text/plain": [
       "array([[[-0.74036436, -1.31011776,  0.247043  ],\n",
       "        [ 0.58018381,  0.71160765,  0.0435488 ]],\n",
       "\n",
       "       [[ 0.53032137, -0.65235875,  0.1324685 ],\n",
       "        [-1.62626562, -1.02926243, -0.50209965]]])"
      ]
     },
     "execution_count": 151,
     "metadata": {},
     "output_type": "execute_result"
    }
   ],
   "source": [
    "np.random.randn(2,2,3)\n",
    "# 2 Arrays \n",
    "# of rows = 2 and columns = 3 \n",
    "# Having Standard normal distribution, mean=0 \n",
    "# and standard normal distribution is 1\n",
    " "
   ]
  },
  {
   "cell_type": "code",
   "execution_count": 162,
   "id": "96ed821d",
   "metadata": {},
   "outputs": [
    {
     "data": {
      "text/plain": [
       "1"
      ]
     },
     "execution_count": 162,
     "metadata": {},
     "output_type": "execute_result"
    }
   ],
   "source": [
    "np.random.randint(5)\n",
    "# Genearte a random number below 5"
   ]
  },
  {
   "cell_type": "code",
   "execution_count": 166,
   "id": "6ef7164d",
   "metadata": {},
   "outputs": [
    {
     "data": {
      "text/plain": [
       "17"
      ]
     },
     "execution_count": 166,
     "metadata": {},
     "output_type": "execute_result"
    }
   ],
   "source": [
    "np.random.randint(5,60)\n",
    "# Generate random number between 5 and 60"
   ]
  },
  {
   "cell_type": "code",
   "execution_count": 167,
   "id": "b27a5632",
   "metadata": {},
   "outputs": [
    {
     "data": {
      "text/plain": [
       "array([41, 50, 31,  8])"
      ]
     },
     "execution_count": 167,
     "metadata": {},
     "output_type": "execute_result"
    }
   ],
   "source": [
    "np.random.randint(5,60,(4))\n",
    "# Generates 4 numbers between 5-60"
   ]
  },
  {
   "cell_type": "code",
   "execution_count": 169,
   "id": "c808df6f",
   "metadata": {},
   "outputs": [
    {
     "data": {
      "text/plain": [
       "array([[38, 26, 28, 25, 37],\n",
       "       [41, 28, 53, 20, 27],\n",
       "       [ 7, 29, 20, 26, 43],\n",
       "       [35, 24, 36, 36, 34]])"
      ]
     },
     "execution_count": 169,
     "metadata": {},
     "output_type": "execute_result"
    }
   ],
   "source": [
    "np.random.randint(5,60,(4,5))\n",
    "# Generates Array of 4 ROWS and 5 COLUMNS\n",
    "# Will contain number between 5-60"
   ]
  },
  {
   "cell_type": "code",
   "execution_count": 184,
   "id": "bf4d213f",
   "metadata": {},
   "outputs": [],
   "source": [
    "arr = np.random.randint(3,9,(3,3))\n",
    "# Generate Array of 3 ROWS and 3 COLUMNS\n",
    "# Range of number will be in between 3-9"
   ]
  },
  {
   "cell_type": "code",
   "execution_count": 185,
   "id": "ee2317b4",
   "metadata": {},
   "outputs": [
    {
     "data": {
      "text/plain": [
       "array([[6, 5, 8],\n",
       "       [7, 5, 8],\n",
       "       [7, 6, 3]])"
      ]
     },
     "execution_count": 185,
     "metadata": {},
     "output_type": "execute_result"
    }
   ],
   "source": [
    "arr"
   ]
  },
  {
   "cell_type": "code",
   "execution_count": 186,
   "id": "0e739e9c",
   "metadata": {},
   "outputs": [
    {
     "data": {
      "text/plain": [
       "9"
      ]
     },
     "execution_count": 186,
     "metadata": {},
     "output_type": "execute_result"
    }
   ],
   "source": [
    "arr.size"
   ]
  },
  {
   "cell_type": "code",
   "execution_count": 187,
   "id": "a4e6e432",
   "metadata": {},
   "outputs": [
    {
     "data": {
      "text/plain": [
       "array([[6, 5, 8, 7, 5, 8, 7, 6, 3]])"
      ]
     },
     "execution_count": 187,
     "metadata": {},
     "output_type": "execute_result"
    }
   ],
   "source": [
    "arr.reshape(1,9)"
   ]
  },
  {
   "cell_type": "code",
   "execution_count": 188,
   "id": "0b7e539d",
   "metadata": {},
   "outputs": [
    {
     "data": {
      "text/plain": [
       "array([[6],\n",
       "       [5],\n",
       "       [8],\n",
       "       [7],\n",
       "       [5],\n",
       "       [8],\n",
       "       [7],\n",
       "       [6],\n",
       "       [3]])"
      ]
     },
     "execution_count": 188,
     "metadata": {},
     "output_type": "execute_result"
    }
   ],
   "source": [
    "arr.reshape(9,1)"
   ]
  },
  {
   "cell_type": "code",
   "execution_count": 189,
   "id": "fd80da2b",
   "metadata": {},
   "outputs": [
    {
     "data": {
      "text/plain": [
       "array([[[6, 5, 8, 7, 5, 8, 7, 6, 3]]])"
      ]
     },
     "execution_count": 189,
     "metadata": {},
     "output_type": "execute_result"
    }
   ],
   "source": [
    "arr.reshape(1,1,9)"
   ]
  },
  {
   "cell_type": "code",
   "execution_count": 190,
   "id": "70da386c",
   "metadata": {},
   "outputs": [
    {
     "data": {
      "text/plain": [
       "array([[[6],\n",
       "        [5],\n",
       "        [8]],\n",
       "\n",
       "       [[7],\n",
       "        [5],\n",
       "        [8]],\n",
       "\n",
       "       [[7],\n",
       "        [6],\n",
       "        [3]]])"
      ]
     },
     "execution_count": 190,
     "metadata": {},
     "output_type": "execute_result"
    }
   ],
   "source": [
    "arr.reshape(3,3,1)\n",
    "# 3 Arrays\n",
    "# Of 3 ROWS and 1 COlumn"
   ]
  },
  {
   "cell_type": "code",
   "execution_count": 193,
   "id": "669d4711",
   "metadata": {},
   "outputs": [
    {
     "data": {
      "text/plain": [
       "array([[6, 5, 8],\n",
       "       [7, 5, 8],\n",
       "       [7, 6, 3]])"
      ]
     },
     "execution_count": 193,
     "metadata": {},
     "output_type": "execute_result"
    }
   ],
   "source": [
    "arr"
   ]
  },
  {
   "cell_type": "code",
   "execution_count": 195,
   "id": "b11702bc",
   "metadata": {},
   "outputs": [
    {
     "data": {
      "text/plain": [
       "array([[6, 5, 8],\n",
       "       [7, 5, 8],\n",
       "       [7, 6, 3]])"
      ]
     },
     "execution_count": 195,
     "metadata": {},
     "output_type": "execute_result"
    }
   ],
   "source": [
    "arr.reshape(3,-1)\n",
    "# -ve number means that \n",
    "# This will automatically undertand the shape of remaining matrix\n",
    "# Below are some more examples"
   ]
  },
  {
   "cell_type": "code",
   "execution_count": 196,
   "id": "0559f301",
   "metadata": {},
   "outputs": [
    {
     "data": {
      "text/plain": [
       "array([[6],\n",
       "       [5],\n",
       "       [8],\n",
       "       [7],\n",
       "       [5],\n",
       "       [8],\n",
       "       [7],\n",
       "       [6],\n",
       "       [3]])"
      ]
     },
     "execution_count": 196,
     "metadata": {},
     "output_type": "execute_result"
    }
   ],
   "source": [
    "arr.reshape(9,-347645738879)"
   ]
  },
  {
   "cell_type": "code",
   "execution_count": 197,
   "id": "e4b06961",
   "metadata": {},
   "outputs": [
    {
     "data": {
      "text/plain": [
       "array([[6, 5, 8, 7, 5, 8, 7, 6, 3]])"
      ]
     },
     "execution_count": 197,
     "metadata": {},
     "output_type": "execute_result"
    }
   ],
   "source": [
    "arr.reshape(1,-93479)"
   ]
  },
  {
   "cell_type": "markdown",
   "id": "e6bf2a1c",
   "metadata": {},
   "source": [
    "#### We now from above examples conclude that if one CORRECT dimension is given then the rest of dimension it will understand automatically. "
   ]
  },
  {
   "cell_type": "code",
   "execution_count": null,
   "id": "5f3363d4",
   "metadata": {},
   "outputs": [],
   "source": []
  },
  {
   "cell_type": "markdown",
   "id": "f3a446f1",
   "metadata": {},
   "source": [
    "#### Finding max and min value in a given array."
   ]
  },
  {
   "cell_type": "code",
   "execution_count": 198,
   "id": "14a053ce",
   "metadata": {},
   "outputs": [
    {
     "data": {
      "text/plain": [
       "8"
      ]
     },
     "execution_count": 198,
     "metadata": {},
     "output_type": "execute_result"
    }
   ],
   "source": [
    "arr.max()"
   ]
  },
  {
   "cell_type": "code",
   "execution_count": 199,
   "id": "a5da01cc",
   "metadata": {},
   "outputs": [
    {
     "data": {
      "text/plain": [
       "3"
      ]
     },
     "execution_count": 199,
     "metadata": {},
     "output_type": "execute_result"
    }
   ],
   "source": [
    "arr.min()"
   ]
  },
  {
   "cell_type": "code",
   "execution_count": null,
   "id": "93ebf409",
   "metadata": {},
   "outputs": [],
   "source": []
  },
  {
   "cell_type": "markdown",
   "id": "f27c9220",
   "metadata": {},
   "source": [
    "#### Understanding the Slicing and other operations in Array."
   ]
  },
  {
   "cell_type": "code",
   "execution_count": 206,
   "id": "8017f076",
   "metadata": {},
   "outputs": [],
   "source": [
    "arr = np.random.randint(4,100,(5,5))\n",
    "# Genearting an ARRAY \n",
    "# With elements in range of 4-100\n",
    "# Having 5 ROWS and 5 COLUMNS"
   ]
  },
  {
   "cell_type": "code",
   "execution_count": 207,
   "id": "193e9ac2",
   "metadata": {},
   "outputs": [
    {
     "data": {
      "text/plain": [
       "array([[62, 44, 59, 92, 34],\n",
       "       [73, 22, 27, 75, 72],\n",
       "       [47, 16, 71, 77, 20],\n",
       "       [44, 89, 77, 32, 84],\n",
       "       [14, 11, 43, 97, 11]])"
      ]
     },
     "execution_count": 207,
     "metadata": {},
     "output_type": "execute_result"
    }
   ],
   "source": [
    "arr"
   ]
  },
  {
   "attachments": {
    "image.png": {
     "image/png": "[encoded data removed]"
    }
   },
   "cell_type": "markdown",
   "id": "eb71acf0",
   "metadata": {},
   "source": [
    "![image.png](attachment:image.png)"
   ]
  },
  {
   "cell_type": "markdown",
   "id": "da60c06e",
   "metadata": {},
   "source": [
    "#### Extracting highlighted data as shown above."
   ]
  },
  {
   "cell_type": "code",
   "execution_count": 212,
   "id": "0ffc27e4",
   "metadata": {},
   "outputs": [
    {
     "data": {
      "text/plain": [
       "array([[32, 84],\n",
       "       [97, 11]])"
      ]
     },
     "execution_count": 212,
     "metadata": {},
     "output_type": "execute_result"
    }
   ],
   "source": [
    "arr[3:,3:]"
   ]
  },
  {
   "cell_type": "code",
   "execution_count": null,
   "id": "996bce90",
   "metadata": {},
   "outputs": [],
   "source": []
  },
  {
   "attachments": {
    "image.png": {
     "image/png": "[encoded data removed]"
    }
   },
   "cell_type": "markdown",
   "id": "d159100b",
   "metadata": {},
   "source": [
    "![image.png](attachment:image.png)"
   ]
  },
  {
   "cell_type": "markdown",
   "id": "a8345a78",
   "metadata": {},
   "source": [
    "####  Extracting highlighted data as shown above."
   ]
  },
  {
   "cell_type": "code",
   "execution_count": 215,
   "id": "fca6976a",
   "metadata": {},
   "outputs": [
    {
     "data": {
      "text/plain": [
       "array([[22, 27],\n",
       "       [16, 71],\n",
       "       [89, 77]])"
      ]
     },
     "execution_count": 215,
     "metadata": {},
     "output_type": "execute_result"
    }
   ],
   "source": [
    "arr[1:4,1:3]"
   ]
  },
  {
   "cell_type": "code",
   "execution_count": 220,
   "id": "dccca3cb",
   "metadata": {},
   "outputs": [
    {
     "data": {
      "text/plain": [
       "array([[44, 92],\n",
       "       [22, 75],\n",
       "       [16, 77],\n",
       "       [89, 32],\n",
       "       [11, 97]])"
      ]
     },
     "execution_count": 220,
     "metadata": {},
     "output_type": "execute_result"
    }
   ],
   "source": [
    "arr[:,[1,3]]"
   ]
  },
  {
   "cell_type": "markdown",
   "id": "4786e437",
   "metadata": {},
   "source": [
    "#### From seeing above example we can also deduce a result that upper bound is not included. In this way slicing works in Array."
   ]
  },
  {
   "cell_type": "markdown",
   "id": "f6fd2cde",
   "metadata": {},
   "source": [
    "#### Above reshaping will be used when we will reshape image, audio, video, etc."
   ]
  },
  {
   "cell_type": "code",
   "execution_count": null,
   "id": "4b2c36e6",
   "metadata": {},
   "outputs": [],
   "source": []
  },
  {
   "cell_type": "markdown",
   "id": "9ba8278c",
   "metadata": {},
   "source": [
    "#### Filtering elements based out of a certian value."
   ]
  },
  {
   "cell_type": "code",
   "execution_count": 223,
   "id": "0e8d9117",
   "metadata": {},
   "outputs": [
    {
     "data": {
      "text/plain": [
       "array([[ True,  True,  True,  True,  True],\n",
       "       [ True, False, False,  True,  True],\n",
       "       [ True, False,  True,  True, False],\n",
       "       [ True,  True,  True,  True,  True],\n",
       "       [False, False,  True,  True, False]])"
      ]
     },
     "execution_count": 223,
     "metadata": {},
     "output_type": "execute_result"
    }
   ],
   "source": [
    "arr > 30"
   ]
  },
  {
   "cell_type": "code",
   "execution_count": 224,
   "id": "2164e8a9",
   "metadata": {},
   "outputs": [
    {
     "data": {
      "text/plain": [
       "array([62, 44, 59, 92, 34, 73, 75, 72, 47, 71, 77, 44, 89, 77, 32, 84, 43,\n",
       "       97])"
      ]
     },
     "execution_count": 224,
     "metadata": {},
     "output_type": "execute_result"
    }
   ],
   "source": [
    "arr[arr > 30]"
   ]
  },
  {
   "cell_type": "code",
   "execution_count": 226,
   "id": "03c0b4d8",
   "metadata": {},
   "outputs": [
    {
     "data": {
      "text/plain": [
       "array([[3844, 1936, 3481, 8464, 1156],\n",
       "       [5329,  484,  729, 5625, 5184],\n",
       "       [2209,  256, 5041, 5929,  400],\n",
       "       [1936, 7921, 5929, 1024, 7056],\n",
       "       [ 196,  121, 1849, 9409,  121]], dtype=int32)"
      ]
     },
     "execution_count": 226,
     "metadata": {},
     "output_type": "execute_result"
    }
   ],
   "source": [
    "arr**2"
   ]
  },
  {
   "cell_type": "code",
   "execution_count": 227,
   "id": "a51877b1",
   "metadata": {},
   "outputs": [
    {
     "data": {
      "text/plain": [
       "array([[3844, 1936, 3481, 8464, 1156],\n",
       "       [5329,  484,  729, 5625, 5184],\n",
       "       [2209,  256, 5041, 5929,  400],\n",
       "       [1936, 7921, 5929, 1024, 7056],\n",
       "       [ 196,  121, 1849, 9409,  121]])"
      ]
     },
     "execution_count": 227,
     "metadata": {},
     "output_type": "execute_result"
    }
   ],
   "source": [
    "arr*arr"
   ]
  },
  {
   "cell_type": "code",
   "execution_count": 229,
   "id": "3ceb7b90",
   "metadata": {},
   "outputs": [],
   "source": [
    "arr1 = np.random.randint(2,4,(3,3))"
   ]
  },
  {
   "cell_type": "code",
   "execution_count": 230,
   "id": "cd7d3851",
   "metadata": {},
   "outputs": [
    {
     "data": {
      "text/plain": [
       "array([[2, 3, 2],\n",
       "       [3, 3, 2],\n",
       "       [2, 2, 2]])"
      ]
     },
     "execution_count": 230,
     "metadata": {},
     "output_type": "execute_result"
    }
   ],
   "source": [
    "arr1"
   ]
  },
  {
   "cell_type": "code",
   "execution_count": 231,
   "id": "b2c970e3",
   "metadata": {},
   "outputs": [],
   "source": [
    "arr2 = np.random.randint(2,4,(3,3))"
   ]
  },
  {
   "cell_type": "code",
   "execution_count": 232,
   "id": "b8480130",
   "metadata": {},
   "outputs": [
    {
     "data": {
      "text/plain": [
       "array([[3, 3, 3],\n",
       "       [3, 2, 2],\n",
       "       [2, 3, 3]])"
      ]
     },
     "execution_count": 232,
     "metadata": {},
     "output_type": "execute_result"
    }
   ],
   "source": [
    "arr2"
   ]
  },
  {
   "cell_type": "code",
   "execution_count": 233,
   "id": "b5490a06",
   "metadata": {},
   "outputs": [
    {
     "data": {
      "text/plain": [
       "array([[6, 9, 6],\n",
       "       [9, 6, 4],\n",
       "       [4, 6, 6]])"
      ]
     },
     "execution_count": 233,
     "metadata": {},
     "output_type": "execute_result"
    }
   ],
   "source": [
    "arr1*arr2"
   ]
  },
  {
   "cell_type": "markdown",
   "id": "a0f269a6",
   "metadata": {},
   "source": [
    "#### Above Multiplication of Matrix IS NOT as learned in class 12th.\n",
    "\n",
    "#### Mulruiplication happening is shown below. It is same index multiplied by same matrix."
   ]
  },
  {
   "attachments": {
    "image.png": {
     "image/png": "[encoded data removed]"
    }
   },
   "cell_type": "markdown",
   "id": "fb37f7da",
   "metadata": {},
   "source": [
    "![image.png](attachment:image.png)"
   ]
  },
  {
   "cell_type": "code",
   "execution_count": null,
   "id": "6892edd6",
   "metadata": {},
   "outputs": [],
   "source": []
  },
  {
   "cell_type": "markdown",
   "id": "ecc48d92",
   "metadata": {},
   "source": [
    "#### In order to do multiplication of matrixwes as learned in 12th class. We use @ symbol as shown below."
   ]
  },
  {
   "cell_type": "code",
   "execution_count": 234,
   "id": "b2061167",
   "metadata": {},
   "outputs": [
    {
     "data": {
      "text/plain": [
       "array([[19, 18, 18],\n",
       "       [22, 21, 21],\n",
       "       [16, 16, 16]])"
      ]
     },
     "execution_count": 234,
     "metadata": {},
     "output_type": "execute_result"
    }
   ],
   "source": [
    "arr1@arr2"
   ]
  },
  {
   "cell_type": "code",
   "execution_count": 235,
   "id": "c52c8224",
   "metadata": {},
   "outputs": [],
   "source": [
    "res = arr1@arr2"
   ]
  },
  {
   "cell_type": "code",
   "execution_count": 240,
   "id": "4edf1140",
   "metadata": {},
   "outputs": [
    {
     "data": {
      "text/plain": [
       "array([1, 2, 3])"
      ]
     },
     "execution_count": 240,
     "metadata": {},
     "output_type": "execute_result"
    }
   ],
   "source": [
    "np.array([1,2,3])"
   ]
  },
  {
   "cell_type": "code",
   "execution_count": 242,
   "id": "70334fd7",
   "metadata": {},
   "outputs": [],
   "source": [
    "a = np.array([1,2,3])"
   ]
  },
  {
   "cell_type": "code",
   "execution_count": 243,
   "id": "88a74546",
   "metadata": {},
   "outputs": [
    {
     "data": {
      "text/plain": [
       "array([1, 2, 3])"
      ]
     },
     "execution_count": 243,
     "metadata": {},
     "output_type": "execute_result"
    }
   ],
   "source": [
    "a "
   ]
  },
  {
   "cell_type": "code",
   "execution_count": 244,
   "id": "0cce68d8",
   "metadata": {},
   "outputs": [
    {
     "data": {
      "text/plain": [
       "array([[20, 20, 21],\n",
       "       [23, 23, 24],\n",
       "       [17, 18, 19]])"
      ]
     },
     "execution_count": 244,
     "metadata": {},
     "output_type": "execute_result"
    }
   ],
   "source": [
    "res+ a"
   ]
  },
  {
   "cell_type": "markdown",
   "id": "765c76b2",
   "metadata": {},
   "source": [
    "#### When we add or multiply arrays elements are BROADCASTED."
   ]
  },
  {
   "cell_type": "code",
   "execution_count": 246,
   "id": "efde8573",
   "metadata": {},
   "outputs": [
    {
     "data": {
      "text/plain": [
       "array([[62, 44, 59, 92, 34],\n",
       "       [73, 22, 27, 75, 72],\n",
       "       [47, 16, 71, 77, 20],\n",
       "       [44, 89, 77, 32, 84],\n",
       "       [14, 11, 43, 97, 11]])"
      ]
     },
     "execution_count": 246,
     "metadata": {},
     "output_type": "execute_result"
    }
   ],
   "source": [
    "arr"
   ]
  },
  {
   "cell_type": "code",
   "execution_count": 248,
   "id": "b1239ba2",
   "metadata": {},
   "outputs": [
    {
     "data": {
      "text/plain": [
       "array([[62, 73, 47, 44, 14],\n",
       "       [44, 22, 16, 89, 11],\n",
       "       [59, 27, 71, 77, 43],\n",
       "       [92, 75, 77, 32, 97],\n",
       "       [34, 72, 20, 84, 11]])"
      ]
     },
     "execution_count": 248,
     "metadata": {},
     "output_type": "execute_result"
    }
   ],
   "source": [
    "arr.T\n",
    "# Transposing the matrix."
   ]
  },
  {
   "cell_type": "code",
   "execution_count": null,
   "id": "aa5a738b",
   "metadata": {},
   "outputs": [],
   "source": []
  },
  {
   "cell_type": "code",
   "execution_count": null,
   "id": "f1131973",
   "metadata": {},
   "outputs": [],
   "source": []
  }
 ],
 "metadata": {
  "kernelspec": {
   "display_name": "Python 3",
   "language": "python",
   "name": "python3"
  },
  "language_info": {
   "codemirror_mode": {
    "name": "ipython",
    "version": 3
   },
   "file_extension": ".py",
   "mimetype": "text/x-python",
   "name": "python",
   "nbconvert_exporter": "python",
   "pygments_lexer": "ipython3",
   "version": "3.8.8"
  }
 },
 "nbformat": 4,
 "nbformat_minor": 5
}
